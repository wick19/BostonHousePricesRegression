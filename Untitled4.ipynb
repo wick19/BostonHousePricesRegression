{
  "nbformat": 4,
  "nbformat_minor": 0,
  "metadata": {
    "colab": {
      "name": "Untitled4.ipynb",
      "provenance": []
    },
    "kernelspec": {
      "name": "python3",
      "display_name": "Python 3"
    },
    "language_info": {
      "name": "python"
    }
  },
  "cells": [
    {
      "cell_type": "code",
      "execution_count": 16,
      "metadata": {
        "id": "IFNcfiAVyMM3"
      },
      "outputs": [],
      "source": [
        "from sklearn.datasets import load_boston\n",
        "from sklearn import preprocessing\n",
        "from sklearn.metrics import r2_score\n",
        "from sklearn.model_selection import train_test_split\n",
        "import pandas as pd\n",
        "import numpy as np\n",
        "import matplotlib.pylab as plt\n",
        "import seaborn as sns\n",
        "sns.set()\n",
        "import torch\n",
        "import torch.nn as nn\n",
        "import torch.nn.functional as F\n",
        "import torch.optim as optim"
      ]
    },
    {
      "cell_type": "code",
      "source": [
        "# from sklearn.datasets import load_boston\n",
        "dataset = load_boston()"
      ],
      "metadata": {
        "id": "lEu8ax4XyRVA"
      },
      "execution_count": null,
      "outputs": []
    },
    {
      "cell_type": "code",
      "source": [
        "# import pandas as pd\n",
        "df = pd.DataFrame(dataset.data)\n",
        "df.columns = dataset.feature_names\n",
        "df[\"PRICES\"] = dataset.target\n",
        "df.head()"
      ],
      "metadata": {
        "colab": {
          "base_uri": "https://localhost:8080/",
          "height": 206
        },
        "id": "nVvmhKHiykhn",
        "outputId": "2ff148a3-49a8-4485-85a2-d450532f6c74"
      },
      "execution_count": 3,
      "outputs": [
        {
          "output_type": "execute_result",
          "data": {
            "text/plain": [
              "      CRIM    ZN  INDUS  CHAS    NOX     RM   AGE     DIS  RAD    TAX  \\\n",
              "0  0.00632  18.0   2.31   0.0  0.538  6.575  65.2  4.0900  1.0  296.0   \n",
              "1  0.02731   0.0   7.07   0.0  0.469  6.421  78.9  4.9671  2.0  242.0   \n",
              "2  0.02729   0.0   7.07   0.0  0.469  7.185  61.1  4.9671  2.0  242.0   \n",
              "3  0.03237   0.0   2.18   0.0  0.458  6.998  45.8  6.0622  3.0  222.0   \n",
              "4  0.06905   0.0   2.18   0.0  0.458  7.147  54.2  6.0622  3.0  222.0   \n",
              "\n",
              "   PTRATIO       B  LSTAT  PRICES  \n",
              "0     15.3  396.90   4.98    24.0  \n",
              "1     17.8  396.90   9.14    21.6  \n",
              "2     17.8  392.83   4.03    34.7  \n",
              "3     18.7  394.63   2.94    33.4  \n",
              "4     18.7  396.90   5.33    36.2  "
            ],
            "text/html": [
              "\n",
              "  <div id=\"df-ed0af0f6-4d30-43a8-9f39-484e8d958ae2\">\n",
              "    <div class=\"colab-df-container\">\n",
              "      <div>\n",
              "<style scoped>\n",
              "    .dataframe tbody tr th:only-of-type {\n",
              "        vertical-align: middle;\n",
              "    }\n",
              "\n",
              "    .dataframe tbody tr th {\n",
              "        vertical-align: top;\n",
              "    }\n",
              "\n",
              "    .dataframe thead th {\n",
              "        text-align: right;\n",
              "    }\n",
              "</style>\n",
              "<table border=\"1\" class=\"dataframe\">\n",
              "  <thead>\n",
              "    <tr style=\"text-align: right;\">\n",
              "      <th></th>\n",
              "      <th>CRIM</th>\n",
              "      <th>ZN</th>\n",
              "      <th>INDUS</th>\n",
              "      <th>CHAS</th>\n",
              "      <th>NOX</th>\n",
              "      <th>RM</th>\n",
              "      <th>AGE</th>\n",
              "      <th>DIS</th>\n",
              "      <th>RAD</th>\n",
              "      <th>TAX</th>\n",
              "      <th>PTRATIO</th>\n",
              "      <th>B</th>\n",
              "      <th>LSTAT</th>\n",
              "      <th>PRICES</th>\n",
              "    </tr>\n",
              "  </thead>\n",
              "  <tbody>\n",
              "    <tr>\n",
              "      <th>0</th>\n",
              "      <td>0.00632</td>\n",
              "      <td>18.0</td>\n",
              "      <td>2.31</td>\n",
              "      <td>0.0</td>\n",
              "      <td>0.538</td>\n",
              "      <td>6.575</td>\n",
              "      <td>65.2</td>\n",
              "      <td>4.0900</td>\n",
              "      <td>1.0</td>\n",
              "      <td>296.0</td>\n",
              "      <td>15.3</td>\n",
              "      <td>396.90</td>\n",
              "      <td>4.98</td>\n",
              "      <td>24.0</td>\n",
              "    </tr>\n",
              "    <tr>\n",
              "      <th>1</th>\n",
              "      <td>0.02731</td>\n",
              "      <td>0.0</td>\n",
              "      <td>7.07</td>\n",
              "      <td>0.0</td>\n",
              "      <td>0.469</td>\n",
              "      <td>6.421</td>\n",
              "      <td>78.9</td>\n",
              "      <td>4.9671</td>\n",
              "      <td>2.0</td>\n",
              "      <td>242.0</td>\n",
              "      <td>17.8</td>\n",
              "      <td>396.90</td>\n",
              "      <td>9.14</td>\n",
              "      <td>21.6</td>\n",
              "    </tr>\n",
              "    <tr>\n",
              "      <th>2</th>\n",
              "      <td>0.02729</td>\n",
              "      <td>0.0</td>\n",
              "      <td>7.07</td>\n",
              "      <td>0.0</td>\n",
              "      <td>0.469</td>\n",
              "      <td>7.185</td>\n",
              "      <td>61.1</td>\n",
              "      <td>4.9671</td>\n",
              "      <td>2.0</td>\n",
              "      <td>242.0</td>\n",
              "      <td>17.8</td>\n",
              "      <td>392.83</td>\n",
              "      <td>4.03</td>\n",
              "      <td>34.7</td>\n",
              "    </tr>\n",
              "    <tr>\n",
              "      <th>3</th>\n",
              "      <td>0.03237</td>\n",
              "      <td>0.0</td>\n",
              "      <td>2.18</td>\n",
              "      <td>0.0</td>\n",
              "      <td>0.458</td>\n",
              "      <td>6.998</td>\n",
              "      <td>45.8</td>\n",
              "      <td>6.0622</td>\n",
              "      <td>3.0</td>\n",
              "      <td>222.0</td>\n",
              "      <td>18.7</td>\n",
              "      <td>394.63</td>\n",
              "      <td>2.94</td>\n",
              "      <td>33.4</td>\n",
              "    </tr>\n",
              "    <tr>\n",
              "      <th>4</th>\n",
              "      <td>0.06905</td>\n",
              "      <td>0.0</td>\n",
              "      <td>2.18</td>\n",
              "      <td>0.0</td>\n",
              "      <td>0.458</td>\n",
              "      <td>7.147</td>\n",
              "      <td>54.2</td>\n",
              "      <td>6.0622</td>\n",
              "      <td>3.0</td>\n",
              "      <td>222.0</td>\n",
              "      <td>18.7</td>\n",
              "      <td>396.90</td>\n",
              "      <td>5.33</td>\n",
              "      <td>36.2</td>\n",
              "    </tr>\n",
              "  </tbody>\n",
              "</table>\n",
              "</div>\n",
              "      <button class=\"colab-df-convert\" onclick=\"convertToInteractive('df-ed0af0f6-4d30-43a8-9f39-484e8d958ae2')\"\n",
              "              title=\"Convert this dataframe to an interactive table.\"\n",
              "              style=\"display:none;\">\n",
              "        \n",
              "  <svg xmlns=\"http://www.w3.org/2000/svg\" height=\"24px\"viewBox=\"0 0 24 24\"\n",
              "       width=\"24px\">\n",
              "    <path d=\"M0 0h24v24H0V0z\" fill=\"none\"/>\n",
              "    <path d=\"M18.56 5.44l.94 2.06.94-2.06 2.06-.94-2.06-.94-.94-2.06-.94 2.06-2.06.94zm-11 1L8.5 8.5l.94-2.06 2.06-.94-2.06-.94L8.5 2.5l-.94 2.06-2.06.94zm10 10l.94 2.06.94-2.06 2.06-.94-2.06-.94-.94-2.06-.94 2.06-2.06.94z\"/><path d=\"M17.41 7.96l-1.37-1.37c-.4-.4-.92-.59-1.43-.59-.52 0-1.04.2-1.43.59L10.3 9.45l-7.72 7.72c-.78.78-.78 2.05 0 2.83L4 21.41c.39.39.9.59 1.41.59.51 0 1.02-.2 1.41-.59l7.78-7.78 2.81-2.81c.8-.78.8-2.07 0-2.86zM5.41 20L4 18.59l7.72-7.72 1.47 1.35L5.41 20z\"/>\n",
              "  </svg>\n",
              "      </button>\n",
              "      \n",
              "  <style>\n",
              "    .colab-df-container {\n",
              "      display:flex;\n",
              "      flex-wrap:wrap;\n",
              "      gap: 12px;\n",
              "    }\n",
              "\n",
              "    .colab-df-convert {\n",
              "      background-color: #E8F0FE;\n",
              "      border: none;\n",
              "      border-radius: 50%;\n",
              "      cursor: pointer;\n",
              "      display: none;\n",
              "      fill: #1967D2;\n",
              "      height: 32px;\n",
              "      padding: 0 0 0 0;\n",
              "      width: 32px;\n",
              "    }\n",
              "\n",
              "    .colab-df-convert:hover {\n",
              "      background-color: #E2EBFA;\n",
              "      box-shadow: 0px 1px 2px rgba(60, 64, 67, 0.3), 0px 1px 3px 1px rgba(60, 64, 67, 0.15);\n",
              "      fill: #174EA6;\n",
              "    }\n",
              "\n",
              "    [theme=dark] .colab-df-convert {\n",
              "      background-color: #3B4455;\n",
              "      fill: #D2E3FC;\n",
              "    }\n",
              "\n",
              "    [theme=dark] .colab-df-convert:hover {\n",
              "      background-color: #434B5C;\n",
              "      box-shadow: 0px 1px 3px 1px rgba(0, 0, 0, 0.15);\n",
              "      filter: drop-shadow(0px 1px 2px rgba(0, 0, 0, 0.3));\n",
              "      fill: #FFFFFF;\n",
              "    }\n",
              "  </style>\n",
              "\n",
              "      <script>\n",
              "        const buttonEl =\n",
              "          document.querySelector('#df-ed0af0f6-4d30-43a8-9f39-484e8d958ae2 button.colab-df-convert');\n",
              "        buttonEl.style.display =\n",
              "          google.colab.kernel.accessAllowed ? 'block' : 'none';\n",
              "\n",
              "        async function convertToInteractive(key) {\n",
              "          const element = document.querySelector('#df-ed0af0f6-4d30-43a8-9f39-484e8d958ae2');\n",
              "          const dataTable =\n",
              "            await google.colab.kernel.invokeFunction('convertToInteractive',\n",
              "                                                     [key], {});\n",
              "          if (!dataTable) return;\n",
              "\n",
              "          const docLinkHtml = 'Like what you see? Visit the ' +\n",
              "            '<a target=\"_blank\" href=https://colab.research.google.com/notebooks/data_table.ipynb>data table notebook</a>'\n",
              "            + ' to learn more about interactive tables.';\n",
              "          element.innerHTML = '';\n",
              "          dataTable['output_type'] = 'display_data';\n",
              "          await google.colab.output.renderOutput(dataTable, element);\n",
              "          const docLink = document.createElement('div');\n",
              "          docLink.innerHTML = docLinkHtml;\n",
              "          element.appendChild(docLink);\n",
              "        }\n",
              "      </script>\n",
              "    </div>\n",
              "  </div>\n",
              "  "
            ]
          },
          "metadata": {},
          "execution_count": 3
        }
      ]
    },
    {
      "cell_type": "code",
      "source": [
        "# import matplotlib.pylab as plt\n",
        "df.plot(x=\"RM\", y=\"PRICES\", style=\"o\")\n",
        "plt.ylabel(\"PRICES\")\n",
        "plt.show()"
      ],
      "metadata": {
        "colab": {
          "base_uri": "https://localhost:8080/",
          "height": 285
        },
        "id": "9mhlO-thzeDF",
        "outputId": "5ae5e551-2c7e-4c6b-adfd-f300bec2695c"
      },
      "execution_count": 10,
      "outputs": [
        {
          "output_type": "display_data",
          "data": {
            "text/plain": [
              "<Figure size 432x288 with 1 Axes>"
            ],
            "image/png": "[encoded data removed]"
          },
          "metadata": {
            "needs_background": "light"
          }
        }
      ]
    },
    {
      "cell_type": "code",
      "source": [
        "TargetName = \"PRICES\"\n",
        "FeaturesName = [\n",
        "              #-- \"Crime occurrence rate per unit population by town\"\n",
        "              \"CRIM\",\n",
        "              #-- \"Percentage of 25000-squared-feet-area house\"\n",
        "              'ZN',\n",
        "              #-- \"Percentage of non-retail land area by town\"\n",
        "              'INDUS',\n",
        "              #-- \"Index for Charlse river: 0 is near, 1 is far\"\n",
        "              'CHAS',\n",
        "              #-- \"Nitrogen compound concentration\"\n",
        "              'NOX',\n",
        "              #-- \"Average number of rooms per residence\"\n",
        "              'RM',\n",
        "              #-- \"Percentage of buildings built before 1940\"\n",
        "              'AGE',\n",
        "              #-- 'Weighted distance from five employment centers'\n",
        "              \"DIS\",\n",
        "              ##-- \"Index for easy access to highway\"\n",
        "              'RAD',\n",
        "              ##-- \"Tax rate per $100,000\"\n",
        "              'TAX',\n",
        "              ##-- \"Percentage of students and teachers in each town\"\n",
        "              'PTRATIO',\n",
        "              ##-- \"1000(Bk - 0.63)^2, where Bk is the percentage of Black people\"\n",
        "              'B',\n",
        "              ##-- \"Percentage of low-class population\"\n",
        "              'LSTAT',\n",
        "              ]"
      ],
      "metadata": {
        "id": "bazRqW7_znMx"
      },
      "execution_count": 11,
      "outputs": []
    },
    {
      "cell_type": "code",
      "source": [
        "X = df[FeaturesName]\n",
        "Y = df[TargetName]"
      ],
      "metadata": {
        "id": "HcXwGJRyzpmJ"
      },
      "execution_count": 12,
      "outputs": []
    },
    {
      "cell_type": "code",
      "source": [
        "# from sklearn import preprocessing\n",
        "sscaler = preprocessing.StandardScaler()\n",
        "sscaler.fit(X)\n",
        "X_std = sscaler.transform(X)"
      ],
      "metadata": {
        "id": "8WmDAzE6zxr3"
      },
      "execution_count": 13,
      "outputs": []
    },
    {
      "cell_type": "code",
      "source": [
        "# from sklearn.model_selection import train_test_split\n",
        "X_train, X_test, Y_train, Y_test = train_test_split(X_std, Y, test_size=0.2, random_state=99)"
      ],
      "metadata": {
        "id": "JBi9ItXvz0CH"
      },
      "execution_count": 17,
      "outputs": []
    },
    {
      "cell_type": "code",
      "source": [
        "# import torch\n",
        "# import torch.nn as nn\n",
        "# import torch.nn.functional as F\n",
        "\n",
        "class MLP(nn.Module):\n",
        "  '''\n",
        "    Multilayer Perceptron for regression.\n",
        "  '''\n",
        "  def __init__(self):\n",
        "    super().__init__()\n",
        "    self.layers = nn.Sequential(\n",
        "      nn.Linear(13, 64),\n",
        "      nn.ReLU(),\n",
        "      nn.Linear(64, 32),\n",
        "      nn.ReLU(),\n",
        "      nn.Linear(32, 1)\n",
        "    )\n",
        "\n",
        "\n",
        "  def forward(self, x):\n",
        "    '''\n",
        "      Forward pass\n",
        "    '''\n",
        "    return self.layers(x)\n",
        "\n",
        "model = MLP()\n",
        "print(model)"
      ],
      "metadata": {
        "colab": {
          "base_uri": "https://localhost:8080/"
        },
        "id": "IXRyhRmn0IGe",
        "outputId": "bea6ef47-b637-488c-c0f0-c1d523dc2264"
      },
      "execution_count": 39,
      "outputs": [
        {
          "output_type": "stream",
          "name": "stdout",
          "text": [
            "MLP(\n",
            "  (layers): Sequential(\n",
            "    (0): Linear(in_features=13, out_features=64, bias=True)\n",
            "    (1): ReLU()\n",
            "    (2): Linear(in_features=64, out_features=32, bias=True)\n",
            "    (3): ReLU()\n",
            "    (4): Linear(in_features=32, out_features=1, bias=True)\n",
            "  )\n",
            ")\n"
          ]
        }
      ]
    },
    {
      "cell_type": "code",
      "source": [
        "# Convert into tensor\n",
        "x = torch.tensor(np.array(X_train), dtype=torch.float)\n",
        "y = torch.tensor(np.array(Y_train).reshape(-1, 1), dtype=torch.float)"
      ],
      "metadata": {
        "id": "5uHfIdWN0q5C"
      },
      "execution_count": 27,
      "outputs": []
    },
    {
      "cell_type": "code",
      "source": [
        "# import torch.optim as optim\n",
        "optimizer = optim.Adam(model.parameters(), lr=0.005)"
      ],
      "metadata": {
        "id": "01XUclRZ9k2j"
      },
      "execution_count": 40,
      "outputs": []
    },
    {
      "cell_type": "code",
      "source": [
        "# define loss function\n",
        "loss_function = nn.MSELoss()"
      ],
      "metadata": {
        "id": "jt7pJ1Jp-b__"
      },
      "execution_count": 42,
      "outputs": []
    },
    {
      "cell_type": "markdown",
      "source": [
        ""
      ],
      "metadata": {
        "id": "5w0jdeHn7wBh"
      }
    },
    {
      "cell_type": "code",
      "source": [
        "# Epoch\n",
        "epochs = 200\n",
        "\n",
        "for i in range(epochs):\n",
        "    # initialize the gradient of model parameters\n",
        "    optimizer.zero_grad()\n",
        "\n",
        "    # calculate the loss\n",
        "    y_val = model(x)\n",
        "    loss = loss_function(y_val, y)\n",
        "    # Backpropagation\n",
        "    loss.backward()\n",
        "    # Update parameters\n",
        "    optimizer.step()\n",
        "    if (i % 5) == 0:\n",
        "      print('epoch: {},'.format(i) + 'loss: {:.5f}'.format(loss))"
      ],
      "metadata": {
        "colab": {
          "base_uri": "https://localhost:8080/"
        },
        "id": "9vU6PWni1Aao",
        "outputId": "03a72ae0-1412-4b49-8a31-b6bbbe4585e7"
      },
      "execution_count": 43,
      "outputs": [
        {
          "output_type": "stream",
          "name": "stdout",
          "text": [
            "epoch: 0,loss: 575.68994\n",
            "epoch: 5,loss: 548.19250\n",
            "epoch: 10,loss: 488.75259\n",
            "epoch: 15,loss: 384.15555\n",
            "epoch: 20,loss: 239.23558\n",
            "epoch: 25,loss: 114.06594\n",
            "epoch: 30,loss: 97.58220\n",
            "epoch: 35,loss: 81.10287\n",
            "epoch: 40,loss: 42.11787\n",
            "epoch: 45,loss: 34.13915\n",
            "epoch: 50,loss: 29.70432\n",
            "epoch: 55,loss: 24.90231\n",
            "epoch: 60,loss: 24.41239\n",
            "epoch: 65,loss: 22.12909\n",
            "epoch: 70,loss: 19.63153\n",
            "epoch: 75,loss: 18.46383\n",
            "epoch: 80,loss: 17.22100\n",
            "epoch: 85,loss: 16.36928\n",
            "epoch: 90,loss: 15.62496\n",
            "epoch: 95,loss: 14.86297\n",
            "epoch: 100,loss: 14.26653\n",
            "epoch: 105,loss: 13.71719\n",
            "epoch: 110,loss: 13.24086\n",
            "epoch: 115,loss: 12.79147\n",
            "epoch: 120,loss: 12.37125\n",
            "epoch: 125,loss: 11.99401\n",
            "epoch: 130,loss: 11.66146\n",
            "epoch: 135,loss: 11.36713\n",
            "epoch: 140,loss: 11.09510\n",
            "epoch: 145,loss: 10.84624\n",
            "epoch: 150,loss: 10.62440\n",
            "epoch: 155,loss: 10.43204\n",
            "epoch: 160,loss: 10.25706\n",
            "epoch: 165,loss: 10.09825\n",
            "epoch: 170,loss: 9.95354\n",
            "epoch: 175,loss: 9.82249\n",
            "epoch: 180,loss: 9.70205\n",
            "epoch: 185,loss: 9.59202\n",
            "epoch: 190,loss: 9.48769\n",
            "epoch: 195,loss: 9.38816\n"
          ]
        }
      ]
    },
    {
      "cell_type": "code",
      "source": [
        "# Prediction\n",
        "Y_train_pred = model(torch.tensor(X_train, dtype=torch.float))\n",
        "Y_test_pred = model(torch.tensor(X_test, dtype=torch.float))\n",
        "\n",
        "# Convert into numpy array\n",
        "Y_train_pred = Y_train_pred.detach().numpy()\n",
        "Y_test_pred = Y_test_pred.detach().numpy()"
      ],
      "metadata": {
        "id": "GFj20OlS1GRG"
      },
      "execution_count": 44,
      "outputs": []
    },
    {
      "cell_type": "code",
      "source": [
        "# from sklearn.metrics import r2_score\n",
        "R2 = r2_score(Y_test, Y_test_pred)\n",
        "print(R2)"
      ],
      "metadata": {
        "colab": {
          "base_uri": "https://localhost:8080/"
        },
        "id": "m2g-23Yu1Qcb",
        "outputId": "f7b29a59-e1b0-4cb2-af0a-3fb7cfb0380f"
      },
      "execution_count": 45,
      "outputs": [
        {
          "output_type": "stream",
          "name": "stdout",
          "text": [
            "0.80832142019164\n"
          ]
        }
      ]
    },
    {
      "cell_type": "code",
      "source": [
        "plt.figure(figsize=(5, 5), dpi=100)\n",
        "sns.set()\n",
        "plt.xlabel(\"PRICES\")\n",
        "plt.ylabel(\"Predicted PRICES\")\n",
        "plt.xlim(0, 60)\n",
        "plt.ylim(0, 60)\n",
        "plt.scatter(Y_train, Y_train_pred, lw=1, color=\"r\", label=\"train data\")\n",
        "plt.scatter(Y_test, Y_test_pred, lw=1, color=\"b\", label=\"test data\")\n",
        "plt.legend()\n",
        "plt.show()"
      ],
      "metadata": {
        "colab": {
          "base_uri": "https://localhost:8080/",
          "height": 472
        },
        "id": "GRiBtPRI1ZAm",
        "outputId": "bce61ad0-df55-4bf8-ab3c-c2767839d149"
      },
      "execution_count": 46,
      "outputs": [
        {
          "output_type": "display_data",
          "data": {
            "text/plain": [
              "<Figure size 500x500 with 1 Axes>"
            ],
            "image/png": "[encoded data removed]"
          },
          "metadata": {}
        }
      ]
    }
  ]
}